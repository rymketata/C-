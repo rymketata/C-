{
  "nbformat": 4,
  "nbformat_minor": 0,
  "metadata": {
    "colab": {
      "provenance": [],
      "include_colab_link": true
    },
    "kernelspec": {
      "name": "python3",
      "display_name": "Python 3"
    },
    "language_info": {
      "name": "python"
    }
  },
  "cells": [
    {
      "cell_type": "markdown",
      "metadata": {
        "id": "view-in-github",
        "colab_type": "text"
      },
      "source": [
        "<a href=\"https://colab.research.google.com/github/rymketata/C-/blob/master/XGB.ipynb\" target=\"_parent\"><img src=\"https://colab.research.google.com/assets/colab-badge.svg\" alt=\"Open In Colab\"/></a>"
      ]
    },
    {
      "cell_type": "code",
      "execution_count": null,
      "metadata": {
        "id": "JPOPbCo-klop"
      },
      "outputs": [],
      "source": [
        "import pandas as pd\n",
        "import numpy as np\n",
        "import matplotlib.pyplot as plt\n",
        "from sklearn.model_selection import train_test_split\n",
        "from sklearn.ensemble import GradientBoostingRegressor\n",
        "from sklearn.metrics import mean_squared_error\n",
        "from sklearn.impute import SimpleImputer"
      ]
    },
    {
      "cell_type": "code",
      "source": [
        "from google.colab import drive\n",
        "drive.mount('/content/drive')"
      ],
      "metadata": {
        "colab": {
          "base_uri": "https://localhost:8080/"
        },
        "id": "fR7Rn8-IDBKk",
        "outputId": "1b142058-e53b-4d0b-95c2-c7df80660cb5"
      },
      "execution_count": null,
      "outputs": [
        {
          "output_type": "stream",
          "name": "stdout",
          "text": [
            "Mounted at /content/drive\n"
          ]
        }
      ]
    },
    {
      "cell_type": "code",
      "source": [
        "dataset = pd.read_csv(\"/content/drive/MyDrive/Ia_Werda/train.csv\")\n",
        "print(dataset)"
      ],
      "metadata": {
        "colab": {
          "base_uri": "https://localhost:8080/"
        },
        "id": "E6wnUNJZDINb",
        "outputId": "c3cb20ca-6761-4d64-a300-445ff0f84d41"
      },
      "execution_count": null,
      "outputs": [
        {
          "output_type": "stream",
          "name": "stdout",
          "text": [
            "              id        date  store_nbr                      family     sales  \\\n",
            "0              0  2013-01-01          1                  AUTOMOTIVE     0.000   \n",
            "1              1  2013-01-01          1                   BABY CARE     0.000   \n",
            "2              2  2013-01-01          1                      BEAUTY     0.000   \n",
            "3              3  2013-01-01          1                   BEVERAGES     0.000   \n",
            "4              4  2013-01-01          1                       BOOKS     0.000   \n",
            "...          ...         ...        ...                         ...       ...   \n",
            "3000883  3000883  2017-08-15          9                     POULTRY   438.133   \n",
            "3000884  3000884  2017-08-15          9              PREPARED FOODS   154.553   \n",
            "3000885  3000885  2017-08-15          9                     PRODUCE  2419.729   \n",
            "3000886  3000886  2017-08-15          9  SCHOOL AND OFFICE SUPPLIES   121.000   \n",
            "3000887  3000887  2017-08-15          9                     SEAFOOD    16.000   \n",
            "\n",
            "         onpromotion  \n",
            "0                  0  \n",
            "1                  0  \n",
            "2                  0  \n",
            "3                  0  \n",
            "4                  0  \n",
            "...              ...  \n",
            "3000883            0  \n",
            "3000884            1  \n",
            "3000885          148  \n",
            "3000886            8  \n",
            "3000887            0  \n",
            "\n",
            "[3000888 rows x 6 columns]\n"
          ]
        }
      ]
    },
    {
      "cell_type": "code",
      "source": [
        "df_visualization=dataset.copy()"
      ],
      "metadata": {
        "id": "IFXyEa4bDQaD"
      },
      "execution_count": null,
      "outputs": []
    },
    {
      "cell_type": "code",
      "source": [
        "dataset = dataset[dataset['store_nbr'] == 7]\n",
        "dataset.drop(columns=['onpromotion','id','store_nbr'], inplace=True)\n",
        "\n",
        "# Print the filtered DataFrame\n",
        "print(dataset)"
      ],
      "metadata": {
        "colab": {
          "base_uri": "https://localhost:8080/"
        },
        "id": "vHletUkNDdsr",
        "outputId": "e15781b4-a7e5-497b-dfc7-026bc8fb527d"
      },
      "execution_count": null,
      "outputs": [
        {
          "output_type": "stream",
          "name": "stdout",
          "text": [
            "               date                      family     sales\n",
            "1683     2013-01-01                  AUTOMOTIVE     0.000\n",
            "1684     2013-01-01                   BABY CARE     0.000\n",
            "1685     2013-01-01                      BEAUTY     0.000\n",
            "1686     2013-01-01                   BEVERAGES     0.000\n",
            "1687     2013-01-01                       BOOKS     0.000\n",
            "...             ...                         ...       ...\n",
            "3000817  2017-08-15                     POULTRY   622.673\n",
            "3000818  2017-08-15              PREPARED FOODS   136.361\n",
            "3000819  2017-08-15                     PRODUCE  5113.961\n",
            "3000820  2017-08-15  SCHOOL AND OFFICE SUPPLIES     2.000\n",
            "3000821  2017-08-15                     SEAFOOD    46.507\n",
            "\n",
            "[55572 rows x 3 columns]\n"
          ]
        },
        {
          "output_type": "stream",
          "name": "stderr",
          "text": [
            "<ipython-input-5-bfd902cf3fd1>:2: SettingWithCopyWarning: \n",
            "A value is trying to be set on a copy of a slice from a DataFrame\n",
            "\n",
            "See the caveats in the documentation: https://pandas.pydata.org/pandas-docs/stable/user_guide/indexing.html#returning-a-view-versus-a-copy\n",
            "  dataset.drop(columns=['onpromotion','id','store_nbr'], inplace=True)\n"
          ]
        }
      ]
    },
    {
      "cell_type": "code",
      "source": [
        "dataset['date'] = pd.to_datetime(dataset['date'])"
      ],
      "metadata": {
        "id": "2Stjg2gqdDQK"
      },
      "execution_count": null,
      "outputs": []
    },
    {
      "cell_type": "code",
      "source": [
        "dataset.reset_index(inplace=True)"
      ],
      "metadata": {
        "id": "R-ROrc1vc2g-"
      },
      "execution_count": null,
      "outputs": []
    },
    {
      "cell_type": "code",
      "source": [
        "dataset['year'] = dataset['date'].dt.year\n",
        "dataset['month'] = dataset['date'].dt.month\n",
        "dataset['day'] = dataset['date'].dt.day"
      ],
      "metadata": {
        "id": "_bVegbKTcaXm"
      },
      "execution_count": null,
      "outputs": []
    },
    {
      "cell_type": "code",
      "source": [
        "#dataset['log_sales'] = np.log1p(dataset['sales'])"
      ],
      "metadata": {
        "id": "HkhQRiQRDpRK"
      },
      "execution_count": null,
      "outputs": []
    },
    {
      "cell_type": "code",
      "source": [
        "dataset"
      ],
      "metadata": {
        "colab": {
          "base_uri": "https://localhost:8080/",
          "height": 424
        },
        "id": "JP-tjgFsWd1R",
        "outputId": "cc3477b9-2ef1-4a4e-95f3-d7a3d088246a"
      },
      "execution_count": null,
      "outputs": [
        {
          "output_type": "execute_result",
          "data": {
            "text/plain": [
              "         index       date                      family     sales  year  month  \\\n",
              "0         1683 2013-01-01                  AUTOMOTIVE     0.000  2013      1   \n",
              "1         1684 2013-01-01                   BABY CARE     0.000  2013      1   \n",
              "2         1685 2013-01-01                      BEAUTY     0.000  2013      1   \n",
              "3         1686 2013-01-01                   BEVERAGES     0.000  2013      1   \n",
              "4         1687 2013-01-01                       BOOKS     0.000  2013      1   \n",
              "...        ...        ...                         ...       ...   ...    ...   \n",
              "55567  3000817 2017-08-15                     POULTRY   622.673  2017      8   \n",
              "55568  3000818 2017-08-15              PREPARED FOODS   136.361  2017      8   \n",
              "55569  3000819 2017-08-15                     PRODUCE  5113.961  2017      8   \n",
              "55570  3000820 2017-08-15  SCHOOL AND OFFICE SUPPLIES     2.000  2017      8   \n",
              "55571  3000821 2017-08-15                     SEAFOOD    46.507  2017      8   \n",
              "\n",
              "       day  \n",
              "0        1  \n",
              "1        1  \n",
              "2        1  \n",
              "3        1  \n",
              "4        1  \n",
              "...    ...  \n",
              "55567   15  \n",
              "55568   15  \n",
              "55569   15  \n",
              "55570   15  \n",
              "55571   15  \n",
              "\n",
              "[55572 rows x 7 columns]"
            ],
            "text/html": [
              "\n",
              "  <div id=\"df-b72a3215-0273-4e8b-bbaf-3a2697d58436\" class=\"colab-df-container\">\n",
              "    <div>\n",
              "<style scoped>\n",
              "    .dataframe tbody tr th:only-of-type {\n",
              "        vertical-align: middle;\n",
              "    }\n",
              "\n",
              "    .dataframe tbody tr th {\n",
              "        vertical-align: top;\n",
              "    }\n",
              "\n",
              "    .dataframe thead th {\n",
              "        text-align: right;\n",
              "    }\n",
              "</style>\n",
              "<table border=\"1\" class=\"dataframe\">\n",
              "  <thead>\n",
              "    <tr style=\"text-align: right;\">\n",
              "      <th></th>\n",
              "      <th>index</th>\n",
              "      <th>date</th>\n",
              "      <th>family</th>\n",
              "      <th>sales</th>\n",
              "      <th>year</th>\n",
              "      <th>month</th>\n",
              "      <th>day</th>\n",
              "    </tr>\n",
              "  </thead>\n",
              "  <tbody>\n",
              "    <tr>\n",
              "      <th>0</th>\n",
              "      <td>1683</td>\n",
              "      <td>2013-01-01</td>\n",
              "      <td>AUTOMOTIVE</td>\n",
              "      <td>0.000</td>\n",
              "      <td>2013</td>\n",
              "      <td>1</td>\n",
              "      <td>1</td>\n",
              "    </tr>\n",
              "    <tr>\n",
              "      <th>1</th>\n",
              "      <td>1684</td>\n",
              "      <td>2013-01-01</td>\n",
              "      <td>BABY CARE</td>\n",
              "      <td>0.000</td>\n",
              "      <td>2013</td>\n",
              "      <td>1</td>\n",
              "      <td>1</td>\n",
              "    </tr>\n",
              "    <tr>\n",
              "      <th>2</th>\n",
              "      <td>1685</td>\n",
              "      <td>2013-01-01</td>\n",
              "      <td>BEAUTY</td>\n",
              "      <td>0.000</td>\n",
              "      <td>2013</td>\n",
              "      <td>1</td>\n",
              "      <td>1</td>\n",
              "    </tr>\n",
              "    <tr>\n",
              "      <th>3</th>\n",
              "      <td>1686</td>\n",
              "      <td>2013-01-01</td>\n",
              "      <td>BEVERAGES</td>\n",
              "      <td>0.000</td>\n",
              "      <td>2013</td>\n",
              "      <td>1</td>\n",
              "      <td>1</td>\n",
              "    </tr>\n",
              "    <tr>\n",
              "      <th>4</th>\n",
              "      <td>1687</td>\n",
              "      <td>2013-01-01</td>\n",
              "      <td>BOOKS</td>\n",
              "      <td>0.000</td>\n",
              "      <td>2013</td>\n",
              "      <td>1</td>\n",
              "      <td>1</td>\n",
              "    </tr>\n",
              "    <tr>\n",
              "      <th>...</th>\n",
              "      <td>...</td>\n",
              "      <td>...</td>\n",
              "      <td>...</td>\n",
              "      <td>...</td>\n",
              "      <td>...</td>\n",
              "      <td>...</td>\n",
              "      <td>...</td>\n",
              "    </tr>\n",
              "    <tr>\n",
              "      <th>55567</th>\n",
              "      <td>3000817</td>\n",
              "      <td>2017-08-15</td>\n",
              "      <td>POULTRY</td>\n",
              "      <td>622.673</td>\n",
              "      <td>2017</td>\n",
              "      <td>8</td>\n",
              "      <td>15</td>\n",
              "    </tr>\n",
              "    <tr>\n",
              "      <th>55568</th>\n",
              "      <td>3000818</td>\n",
              "      <td>2017-08-15</td>\n",
              "      <td>PREPARED FOODS</td>\n",
              "      <td>136.361</td>\n",
              "      <td>2017</td>\n",
              "      <td>8</td>\n",
              "      <td>15</td>\n",
              "    </tr>\n",
              "    <tr>\n",
              "      <th>55569</th>\n",
              "      <td>3000819</td>\n",
              "      <td>2017-08-15</td>\n",
              "      <td>PRODUCE</td>\n",
              "      <td>5113.961</td>\n",
              "      <td>2017</td>\n",
              "      <td>8</td>\n",
              "      <td>15</td>\n",
              "    </tr>\n",
              "    <tr>\n",
              "      <th>55570</th>\n",
              "      <td>3000820</td>\n",
              "      <td>2017-08-15</td>\n",
              "      <td>SCHOOL AND OFFICE SUPPLIES</td>\n",
              "      <td>2.000</td>\n",
              "      <td>2017</td>\n",
              "      <td>8</td>\n",
              "      <td>15</td>\n",
              "    </tr>\n",
              "    <tr>\n",
              "      <th>55571</th>\n",
              "      <td>3000821</td>\n",
              "      <td>2017-08-15</td>\n",
              "      <td>SEAFOOD</td>\n",
              "      <td>46.507</td>\n",
              "      <td>2017</td>\n",
              "      <td>8</td>\n",
              "      <td>15</td>\n",
              "    </tr>\n",
              "  </tbody>\n",
              "</table>\n",
              "<p>55572 rows × 7 columns</p>\n",
              "</div>\n",
              "    <div class=\"colab-df-buttons\">\n",
              "\n",
              "  <div class=\"colab-df-container\">\n",
              "    <button class=\"colab-df-convert\" onclick=\"convertToInteractive('df-b72a3215-0273-4e8b-bbaf-3a2697d58436')\"\n",
              "            title=\"Convert this dataframe to an interactive table.\"\n",
              "            style=\"display:none;\">\n",
              "\n",
              "  <svg xmlns=\"http://www.w3.org/2000/svg\" height=\"24px\" viewBox=\"0 -960 960 960\">\n",
              "    <path d=\"M120-120v-720h720v720H120Zm60-500h600v-160H180v160Zm220 220h160v-160H400v160Zm0 220h160v-160H400v160ZM180-400h160v-160H180v160Zm440 0h160v-160H620v160ZM180-180h160v-160H180v160Zm440 0h160v-160H620v160Z\"/>\n",
              "  </svg>\n",
              "    </button>\n",
              "\n",
              "  <style>\n",
              "    .colab-df-container {\n",
              "      display:flex;\n",
              "      gap: 12px;\n",
              "    }\n",
              "\n",
              "    .colab-df-convert {\n",
              "      background-color: #E8F0FE;\n",
              "      border: none;\n",
              "      border-radius: 50%;\n",
              "      cursor: pointer;\n",
              "      display: none;\n",
              "      fill: #1967D2;\n",
              "      height: 32px;\n",
              "      padding: 0 0 0 0;\n",
              "      width: 32px;\n",
              "    }\n",
              "\n",
              "    .colab-df-convert:hover {\n",
              "      background-color: #E2EBFA;\n",
              "      box-shadow: 0px 1px 2px rgba(60, 64, 67, 0.3), 0px 1px 3px 1px rgba(60, 64, 67, 0.15);\n",
              "      fill: #174EA6;\n",
              "    }\n",
              "\n",
              "    .colab-df-buttons div {\n",
              "      margin-bottom: 4px;\n",
              "    }\n",
              "\n",
              "    [theme=dark] .colab-df-convert {\n",
              "      background-color: #3B4455;\n",
              "      fill: #D2E3FC;\n",
              "    }\n",
              "\n",
              "    [theme=dark] .colab-df-convert:hover {\n",
              "      background-color: #434B5C;\n",
              "      box-shadow: 0px 1px 3px 1px rgba(0, 0, 0, 0.15);\n",
              "      filter: drop-shadow(0px 1px 2px rgba(0, 0, 0, 0.3));\n",
              "      fill: #FFFFFF;\n",
              "    }\n",
              "  </style>\n",
              "\n",
              "    <script>\n",
              "      const buttonEl =\n",
              "        document.querySelector('#df-b72a3215-0273-4e8b-bbaf-3a2697d58436 button.colab-df-convert');\n",
              "      buttonEl.style.display =\n",
              "        google.colab.kernel.accessAllowed ? 'block' : 'none';\n",
              "\n",
              "      async function convertToInteractive(key) {\n",
              "        const element = document.querySelector('#df-b72a3215-0273-4e8b-bbaf-3a2697d58436');\n",
              "        const dataTable =\n",
              "          await google.colab.kernel.invokeFunction('convertToInteractive',\n",
              "                                                    [key], {});\n",
              "        if (!dataTable) return;\n",
              "\n",
              "        const docLinkHtml = 'Like what you see? Visit the ' +\n",
              "          '<a target=\"_blank\" href=https://colab.research.google.com/notebooks/data_table.ipynb>data table notebook</a>'\n",
              "          + ' to learn more about interactive tables.';\n",
              "        element.innerHTML = '';\n",
              "        dataTable['output_type'] = 'display_data';\n",
              "        await google.colab.output.renderOutput(dataTable, element);\n",
              "        const docLink = document.createElement('div');\n",
              "        docLink.innerHTML = docLinkHtml;\n",
              "        element.appendChild(docLink);\n",
              "      }\n",
              "    </script>\n",
              "  </div>\n",
              "\n",
              "\n",
              "<div id=\"df-814b3c9a-f346-428f-83fd-7971b284110c\">\n",
              "  <button class=\"colab-df-quickchart\" onclick=\"quickchart('df-814b3c9a-f346-428f-83fd-7971b284110c')\"\n",
              "            title=\"Suggest charts\"\n",
              "            style=\"display:none;\">\n",
              "\n",
              "<svg xmlns=\"http://www.w3.org/2000/svg\" height=\"24px\"viewBox=\"0 0 24 24\"\n",
              "     width=\"24px\">\n",
              "    <g>\n",
              "        <path d=\"M19 3H5c-1.1 0-2 .9-2 2v14c0 1.1.9 2 2 2h14c1.1 0 2-.9 2-2V5c0-1.1-.9-2-2-2zM9 17H7v-7h2v7zm4 0h-2V7h2v10zm4 0h-2v-4h2v4z\"/>\n",
              "    </g>\n",
              "</svg>\n",
              "  </button>\n",
              "\n",
              "<style>\n",
              "  .colab-df-quickchart {\n",
              "      --bg-color: #E8F0FE;\n",
              "      --fill-color: #1967D2;\n",
              "      --hover-bg-color: #E2EBFA;\n",
              "      --hover-fill-color: #174EA6;\n",
              "      --disabled-fill-color: #AAA;\n",
              "      --disabled-bg-color: #DDD;\n",
              "  }\n",
              "\n",
              "  [theme=dark] .colab-df-quickchart {\n",
              "      --bg-color: #3B4455;\n",
              "      --fill-color: #D2E3FC;\n",
              "      --hover-bg-color: #434B5C;\n",
              "      --hover-fill-color: #FFFFFF;\n",
              "      --disabled-bg-color: #3B4455;\n",
              "      --disabled-fill-color: #666;\n",
              "  }\n",
              "\n",
              "  .colab-df-quickchart {\n",
              "    background-color: var(--bg-color);\n",
              "    border: none;\n",
              "    border-radius: 50%;\n",
              "    cursor: pointer;\n",
              "    display: none;\n",
              "    fill: var(--fill-color);\n",
              "    height: 32px;\n",
              "    padding: 0;\n",
              "    width: 32px;\n",
              "  }\n",
              "\n",
              "  .colab-df-quickchart:hover {\n",
              "    background-color: var(--hover-bg-color);\n",
              "    box-shadow: 0 1px 2px rgba(60, 64, 67, 0.3), 0 1px 3px 1px rgba(60, 64, 67, 0.15);\n",
              "    fill: var(--button-hover-fill-color);\n",
              "  }\n",
              "\n",
              "  .colab-df-quickchart-complete:disabled,\n",
              "  .colab-df-quickchart-complete:disabled:hover {\n",
              "    background-color: var(--disabled-bg-color);\n",
              "    fill: var(--disabled-fill-color);\n",
              "    box-shadow: none;\n",
              "  }\n",
              "\n",
              "  .colab-df-spinner {\n",
              "    border: 2px solid var(--fill-color);\n",
              "    border-color: transparent;\n",
              "    border-bottom-color: var(--fill-color);\n",
              "    animation:\n",
              "      spin 1s steps(1) infinite;\n",
              "  }\n",
              "\n",
              "  @keyframes spin {\n",
              "    0% {\n",
              "      border-color: transparent;\n",
              "      border-bottom-color: var(--fill-color);\n",
              "      border-left-color: var(--fill-color);\n",
              "    }\n",
              "    20% {\n",
              "      border-color: transparent;\n",
              "      border-left-color: var(--fill-color);\n",
              "      border-top-color: var(--fill-color);\n",
              "    }\n",
              "    30% {\n",
              "      border-color: transparent;\n",
              "      border-left-color: var(--fill-color);\n",
              "      border-top-color: var(--fill-color);\n",
              "      border-right-color: var(--fill-color);\n",
              "    }\n",
              "    40% {\n",
              "      border-color: transparent;\n",
              "      border-right-color: var(--fill-color);\n",
              "      border-top-color: var(--fill-color);\n",
              "    }\n",
              "    60% {\n",
              "      border-color: transparent;\n",
              "      border-right-color: var(--fill-color);\n",
              "    }\n",
              "    80% {\n",
              "      border-color: transparent;\n",
              "      border-right-color: var(--fill-color);\n",
              "      border-bottom-color: var(--fill-color);\n",
              "    }\n",
              "    90% {\n",
              "      border-color: transparent;\n",
              "      border-bottom-color: var(--fill-color);\n",
              "    }\n",
              "  }\n",
              "</style>\n",
              "\n",
              "  <script>\n",
              "    async function quickchart(key) {\n",
              "      const quickchartButtonEl =\n",
              "        document.querySelector('#' + key + ' button');\n",
              "      quickchartButtonEl.disabled = true;  // To prevent multiple clicks.\n",
              "      quickchartButtonEl.classList.add('colab-df-spinner');\n",
              "      try {\n",
              "        const charts = await google.colab.kernel.invokeFunction(\n",
              "            'suggestCharts', [key], {});\n",
              "      } catch (error) {\n",
              "        console.error('Error during call to suggestCharts:', error);\n",
              "      }\n",
              "      quickchartButtonEl.classList.remove('colab-df-spinner');\n",
              "      quickchartButtonEl.classList.add('colab-df-quickchart-complete');\n",
              "    }\n",
              "    (() => {\n",
              "      let quickchartButtonEl =\n",
              "        document.querySelector('#df-814b3c9a-f346-428f-83fd-7971b284110c button');\n",
              "      quickchartButtonEl.style.display =\n",
              "        google.colab.kernel.accessAllowed ? 'block' : 'none';\n",
              "    })();\n",
              "  </script>\n",
              "</div>\n",
              "    </div>\n",
              "  </div>\n"
            ],
            "application/vnd.google.colaboratory.intrinsic+json": {
              "type": "dataframe",
              "variable_name": "dataset",
              "summary": "{\n  \"name\": \"dataset\",\n  \"rows\": 55572,\n  \"fields\": [\n    {\n      \"column\": \"index\",\n      \"properties\": {\n        \"dtype\": \"number\",\n        \"std\": 866289,\n        \"min\": 1683,\n        \"max\": 3000821,\n        \"num_unique_values\": 55572,\n        \"samples\": [\n          459676,\n          652132,\n          2646171\n        ],\n        \"semantic_type\": \"\",\n        \"description\": \"\"\n      }\n    },\n    {\n      \"column\": \"date\",\n      \"properties\": {\n        \"dtype\": \"date\",\n        \"min\": \"2013-01-01 00:00:00\",\n        \"max\": \"2017-08-15 00:00:00\",\n        \"num_unique_values\": 1684,\n        \"samples\": [\n          \"2016-04-15 00:00:00\",\n          \"2016-03-14 00:00:00\",\n          \"2014-07-23 00:00:00\"\n        ],\n        \"semantic_type\": \"\",\n        \"description\": \"\"\n      }\n    },\n    {\n      \"column\": \"family\",\n      \"properties\": {\n        \"dtype\": \"category\",\n        \"num_unique_values\": 33,\n        \"samples\": [\n          \"SCHOOL AND OFFICE SUPPLIES\",\n          \"HOME AND KITCHEN I\",\n          \"PET SUPPLIES\"\n        ],\n        \"semantic_type\": \"\",\n        \"description\": \"\"\n      }\n    },\n    {\n      \"column\": \"sales\",\n      \"properties\": {\n        \"dtype\": \"number\",\n        \"std\": 1139.705303774475,\n        \"min\": 0.0,\n        \"max\": 12907.0,\n        \"num_unique_values\": 15462,\n        \"samples\": [\n          106.686,\n          71.779,\n          487.769\n        ],\n        \"semantic_type\": \"\",\n        \"description\": \"\"\n      }\n    },\n    {\n      \"column\": \"year\",\n      \"properties\": {\n        \"dtype\": \"number\",\n        \"std\": 1,\n        \"min\": 2013,\n        \"max\": 2017,\n        \"num_unique_values\": 5,\n        \"samples\": [\n          2014,\n          2017,\n          2015\n        ],\n        \"semantic_type\": \"\",\n        \"description\": \"\"\n      }\n    },\n    {\n      \"column\": \"month\",\n      \"properties\": {\n        \"dtype\": \"number\",\n        \"std\": 3,\n        \"min\": 1,\n        \"max\": 12,\n        \"num_unique_values\": 12,\n        \"samples\": [\n          11,\n          10,\n          1\n        ],\n        \"semantic_type\": \"\",\n        \"description\": \"\"\n      }\n    },\n    {\n      \"column\": \"day\",\n      \"properties\": {\n        \"dtype\": \"number\",\n        \"std\": 8,\n        \"min\": 1,\n        \"max\": 31,\n        \"num_unique_values\": 31,\n        \"samples\": [\n          28,\n          16,\n          24\n        ],\n        \"semantic_type\": \"\",\n        \"description\": \"\"\n      }\n    }\n  ]\n}"
            }
          },
          "metadata": {},
          "execution_count": 9
        }
      ]
    },
    {
      "cell_type": "code",
      "source": [
        "#X = dataset[['date', 'family']]\n",
        "#y = dataset['sales']\n"
      ],
      "metadata": {
        "id": "uTqa-5G3D3vy"
      },
      "execution_count": null,
      "outputs": []
    },
    {
      "cell_type": "code",
      "source": [
        "#x = dataset.drop(['sales'],axis=1)\n",
        "#y = dataset['sales']"
      ],
      "metadata": {
        "id": "HnIlbN1MeUYf"
      },
      "execution_count": null,
      "outputs": []
    },
    {
      "cell_type": "code",
      "source": [
        "#X_train, X_test, Y_train, Y_test = train_test_split(x, y, test_size = 0.2, random_state=42)"
      ],
      "metadata": {
        "id": "bStI14QJegkQ"
      },
      "execution_count": null,
      "outputs": []
    },
    {
      "cell_type": "code",
      "source": [
        "#features = ['date', 'family']"
      ],
      "metadata": {
        "id": "HDqIxfPaHDK0"
      },
      "execution_count": null,
      "outputs": []
    },
    {
      "cell_type": "code",
      "source": [
        "X_train = pd.get_dummies(dataset)\n",
        "y_train = dataset['sales']"
      ],
      "metadata": {
        "id": "DrRIls0DlHOC"
      },
      "execution_count": null,
      "outputs": []
    },
    {
      "cell_type": "code",
      "source": [
        "print(y_train)"
      ],
      "metadata": {
        "colab": {
          "base_uri": "https://localhost:8080/"
        },
        "id": "UBb3VtKyDOvQ",
        "outputId": "166a2717-0f71-4cad-a237-d42bc42f3547"
      },
      "execution_count": null,
      "outputs": [
        {
          "output_type": "stream",
          "name": "stdout",
          "text": [
            "0           0.000\n",
            "1           0.000\n",
            "2           0.000\n",
            "3           0.000\n",
            "4           0.000\n",
            "           ...   \n",
            "55567     622.673\n",
            "55568     136.361\n",
            "55569    5113.961\n",
            "55570       2.000\n",
            "55571      46.507\n",
            "Name: sales, Length: 55572, dtype: float64\n"
          ]
        }
      ]
    },
    {
      "cell_type": "code",
      "source": [
        "X_train.shape"
      ],
      "metadata": {
        "colab": {
          "base_uri": "https://localhost:8080/"
        },
        "id": "Tj6SR-yplVPR",
        "outputId": "b84173c8-4075-4f57-e5d5-891f71f87c1c"
      },
      "execution_count": null,
      "outputs": [
        {
          "output_type": "execute_result",
          "data": {
            "text/plain": [
              "(55572, 39)"
            ]
          },
          "metadata": {},
          "execution_count": 12
        }
      ]
    },
    {
      "cell_type": "code",
      "source": [
        "\n",
        "y_train.shape"
      ],
      "metadata": {
        "colab": {
          "base_uri": "https://localhost:8080/"
        },
        "id": "46hI570xlLDV",
        "outputId": "bc7edab4-4910-43a4-f692-07c894fe64f7"
      },
      "execution_count": null,
      "outputs": [
        {
          "output_type": "execute_result",
          "data": {
            "text/plain": [
              "(55572,)"
            ]
          },
          "metadata": {},
          "execution_count": 13
        }
      ]
    },
    {
      "cell_type": "code",
      "source": [
        "X_train = X_train.dropna()"
      ],
      "metadata": {
        "id": "8wKsIqDIlaVE"
      },
      "execution_count": null,
      "outputs": []
    },
    {
      "cell_type": "code",
      "source": [
        "X_train.shape"
      ],
      "metadata": {
        "colab": {
          "base_uri": "https://localhost:8080/"
        },
        "id": "a2yqpPOBldyu",
        "outputId": "aa11d7fa-0eb2-4881-bcd6-a1e652976380"
      },
      "execution_count": null,
      "outputs": [
        {
          "output_type": "execute_result",
          "data": {
            "text/plain": [
              "(55572, 39)"
            ]
          },
          "metadata": {},
          "execution_count": 15
        }
      ]
    },
    {
      "cell_type": "code",
      "source": [
        "\n",
        "\n",
        "\n",
        "y_train = y_train[X_train.index]\n",
        "#X_test = pd.get_dummies(test[features])\n",
        "\n"
      ],
      "metadata": {
        "id": "Ta6CJ7_tGk3N"
      },
      "execution_count": null,
      "outputs": []
    },
    {
      "cell_type": "code",
      "source": [
        "print(y_train)"
      ],
      "metadata": {
        "colab": {
          "base_uri": "https://localhost:8080/"
        },
        "id": "Qp5AsQcOE3T_",
        "outputId": "d866f674-a89a-4c79-81eb-547d5341c0ee"
      },
      "execution_count": null,
      "outputs": [
        {
          "output_type": "stream",
          "name": "stdout",
          "text": [
            "0           0.000\n",
            "1           0.000\n",
            "2           0.000\n",
            "3           0.000\n",
            "4           0.000\n",
            "           ...   \n",
            "55567     622.673\n",
            "55568     136.361\n",
            "55569    5113.961\n",
            "55570       2.000\n",
            "55571      46.507\n",
            "Name: sales, Length: 55572, dtype: float64\n"
          ]
        }
      ]
    },
    {
      "cell_type": "code",
      "source": [
        "y_train.shape"
      ],
      "metadata": {
        "colab": {
          "base_uri": "https://localhost:8080/"
        },
        "id": "UkCEQMnHllB1",
        "outputId": "49ffc757-b419-4c2e-994a-fd1121fceed5"
      },
      "execution_count": null,
      "outputs": [
        {
          "output_type": "execute_result",
          "data": {
            "text/plain": [
              "(55572,)"
            ]
          },
          "metadata": {},
          "execution_count": 18
        }
      ]
    },
    {
      "cell_type": "code",
      "source": [
        "X_train.columns"
      ],
      "metadata": {
        "colab": {
          "base_uri": "https://localhost:8080/"
        },
        "id": "f6xWUd6sfQeU",
        "outputId": "8f844310-a9fb-4a50-d6ab-356791d33068"
      },
      "execution_count": null,
      "outputs": [
        {
          "output_type": "execute_result",
          "data": {
            "text/plain": [
              "Index(['index', 'date', 'sales', 'year', 'month', 'day', 'family_AUTOMOTIVE',\n",
              "       'family_BABY CARE', 'family_BEAUTY', 'family_BEVERAGES', 'family_BOOKS',\n",
              "       'family_BREAD/BAKERY', 'family_CELEBRATION', 'family_CLEANING',\n",
              "       'family_DAIRY', 'family_DELI', 'family_EGGS', 'family_FROZEN FOODS',\n",
              "       'family_GROCERY I', 'family_GROCERY II', 'family_HARDWARE',\n",
              "       'family_HOME AND KITCHEN I', 'family_HOME AND KITCHEN II',\n",
              "       'family_HOME APPLIANCES', 'family_HOME CARE', 'family_LADIESWEAR',\n",
              "       'family_LAWN AND GARDEN', 'family_LINGERIE', 'family_LIQUOR,WINE,BEER',\n",
              "       'family_MAGAZINES', 'family_MEATS', 'family_PERSONAL CARE',\n",
              "       'family_PET SUPPLIES', 'family_PLAYERS AND ELECTRONICS',\n",
              "       'family_POULTRY', 'family_PREPARED FOODS', 'family_PRODUCE',\n",
              "       'family_SCHOOL AND OFFICE SUPPLIES', 'family_SEAFOOD'],\n",
              "      dtype='object')"
            ]
          },
          "metadata": {},
          "execution_count": 19
        }
      ]
    },
    {
      "cell_type": "code",
      "source": [
        "X_train.drop('date',axis=1,inplace=True)\n",
        "X_train.drop('index',axis=1,inplace=True)\n",
        "X_train.drop('sales',axis=1,inplace=True)"
      ],
      "metadata": {
        "id": "DKWXlnvhhnKZ"
      },
      "execution_count": null,
      "outputs": []
    },
    {
      "cell_type": "code",
      "source": [
        "X_train.columns"
      ],
      "metadata": {
        "colab": {
          "base_uri": "https://localhost:8080/"
        },
        "id": "R9ndfCZHh4nn",
        "outputId": "f6e13879-57ad-412a-fb12-eb1ee5203a7d"
      },
      "execution_count": null,
      "outputs": [
        {
          "output_type": "execute_result",
          "data": {
            "text/plain": [
              "Index(['year', 'month', 'day', 'family_AUTOMOTIVE', 'family_BABY CARE',\n",
              "       'family_BEAUTY', 'family_BEVERAGES', 'family_BOOKS',\n",
              "       'family_BREAD/BAKERY', 'family_CELEBRATION', 'family_CLEANING',\n",
              "       'family_DAIRY', 'family_DELI', 'family_EGGS', 'family_FROZEN FOODS',\n",
              "       'family_GROCERY I', 'family_GROCERY II', 'family_HARDWARE',\n",
              "       'family_HOME AND KITCHEN I', 'family_HOME AND KITCHEN II',\n",
              "       'family_HOME APPLIANCES', 'family_HOME CARE', 'family_LADIESWEAR',\n",
              "       'family_LAWN AND GARDEN', 'family_LINGERIE', 'family_LIQUOR,WINE,BEER',\n",
              "       'family_MAGAZINES', 'family_MEATS', 'family_PERSONAL CARE',\n",
              "       'family_PET SUPPLIES', 'family_PLAYERS AND ELECTRONICS',\n",
              "       'family_POULTRY', 'family_PREPARED FOODS', 'family_PRODUCE',\n",
              "       'family_SCHOOL AND OFFICE SUPPLIES', 'family_SEAFOOD'],\n",
              "      dtype='object')"
            ]
          },
          "metadata": {},
          "execution_count": 21
        }
      ]
    },
    {
      "cell_type": "code",
      "source": [
        "X_train.shape"
      ],
      "metadata": {
        "colab": {
          "base_uri": "https://localhost:8080/"
        },
        "id": "vL45Hi95kMOE",
        "outputId": "dabe9303-e0e5-44cb-e3aa-af1e07d70040"
      },
      "execution_count": null,
      "outputs": [
        {
          "output_type": "execute_result",
          "data": {
            "text/plain": [
              "(55572, 36)"
            ]
          },
          "metadata": {},
          "execution_count": 22
        }
      ]
    },
    {
      "cell_type": "code",
      "source": [
        "y_train.shape"
      ],
      "metadata": {
        "colab": {
          "base_uri": "https://localhost:8080/"
        },
        "id": "fW37FaLzkTE_",
        "outputId": "68a7d28b-144a-4063-c8f1-79667636e091"
      },
      "execution_count": null,
      "outputs": [
        {
          "output_type": "execute_result",
          "data": {
            "text/plain": [
              "(55572,)"
            ]
          },
          "metadata": {},
          "execution_count": 23
        }
      ]
    },
    {
      "cell_type": "code",
      "source": [
        "X_train, X_test, Y_train, Y_test = train_test_split(X_train,y_train, test_size = 0.2, random_state=42)"
      ],
      "metadata": {
        "id": "uSvP9boiiGA8"
      },
      "execution_count": null,
      "outputs": []
    },
    {
      "cell_type": "code",
      "source": [
        "print(y_train)"
      ],
      "metadata": {
        "colab": {
          "base_uri": "https://localhost:8080/"
        },
        "id": "XL0puTa7FFuS",
        "outputId": "c0513c40-0f55-475d-f0bd-827b525a3d30"
      },
      "execution_count": null,
      "outputs": [
        {
          "output_type": "stream",
          "name": "stdout",
          "text": [
            "0           0.000\n",
            "1           0.000\n",
            "2           0.000\n",
            "3           0.000\n",
            "4           0.000\n",
            "           ...   \n",
            "55567     622.673\n",
            "55568     136.361\n",
            "55569    5113.961\n",
            "55570       2.000\n",
            "55571      46.507\n",
            "Name: sales, Length: 55572, dtype: float64\n"
          ]
        }
      ]
    },
    {
      "cell_type": "code",
      "source": [
        "X_test"
      ],
      "metadata": {
        "colab": {
          "base_uri": "https://localhost:8080/",
          "height": 478
        },
        "id": "hQ9twZa2XBTv",
        "outputId": "2c18abcb-501e-4cfb-bd87-6026c7d83a3c"
      },
      "execution_count": null,
      "outputs": [
        {
          "output_type": "execute_result",
          "data": {
            "text/plain": [
              "       year  month  day  family_AUTOMOTIVE  family_BABY CARE  family_BEAUTY  \\\n",
              "8500   2013      9   15                  0                 0              0   \n",
              "12064  2014      1    2                  0                 0              0   \n",
              "48972  2017      1   28                  1                 0              0   \n",
              "49587  2017      2   15                  0                 0              0   \n",
              "37965  2016      2   28                  0                 0              0   \n",
              "...     ...    ...  ...                ...               ...            ...   \n",
              "24925  2015      1   28                  0                 0              0   \n",
              "24106  2015      1    3                  0                 0              0   \n",
              "42697  2016      7   20                  0                 0              0   \n",
              "47750  2016     12   20                  0                 0              0   \n",
              "12847  2014      1   26                  0                 0              0   \n",
              "\n",
              "       family_BEVERAGES  family_BOOKS  family_BREAD/BAKERY  \\\n",
              "8500                  0             0                    0   \n",
              "12064                 0             0                    0   \n",
              "48972                 0             0                    0   \n",
              "49587                 0             0                    0   \n",
              "37965                 0             0                    0   \n",
              "...                 ...           ...                  ...   \n",
              "24925                 0             0                    0   \n",
              "24106                 0             0                    0   \n",
              "42697                 0             0                    0   \n",
              "47750                 0             0                    0   \n",
              "12847                 0             0                    0   \n",
              "\n",
              "       family_CELEBRATION  ...  family_MAGAZINES  family_MEATS  \\\n",
              "8500                    0  ...                 0             0   \n",
              "12064                   0  ...                 0             0   \n",
              "48972                   0  ...                 0             0   \n",
              "49587                   0  ...                 0             0   \n",
              "37965                   0  ...                 0             0   \n",
              "...                   ...  ...               ...           ...   \n",
              "24925                   0  ...                 0             0   \n",
              "24106                   0  ...                 0             0   \n",
              "42697                   0  ...                 0             0   \n",
              "47750                   0  ...                 0             0   \n",
              "12847                   0  ...                 0             0   \n",
              "\n",
              "       family_PERSONAL CARE  family_PET SUPPLIES  \\\n",
              "8500                      0                    0   \n",
              "12064                     0                    0   \n",
              "48972                     0                    0   \n",
              "49587                     0                    0   \n",
              "37965                     0                    0   \n",
              "...                     ...                  ...   \n",
              "24925                     0                    0   \n",
              "24106                     0                    0   \n",
              "42697                     0                    0   \n",
              "47750                     0                    0   \n",
              "12847                     0                    0   \n",
              "\n",
              "       family_PLAYERS AND ELECTRONICS  family_POULTRY  family_PREPARED FOODS  \\\n",
              "8500                                0               0                      0   \n",
              "12064                               0               0                      0   \n",
              "48972                               0               0                      0   \n",
              "49587                               0               0                      0   \n",
              "37965                               0               0                      0   \n",
              "...                               ...             ...                    ...   \n",
              "24925                               0               0                      0   \n",
              "24106                               0               0                      0   \n",
              "42697                               0               1                      0   \n",
              "47750                               0               0                      0   \n",
              "12847                               0               0                      0   \n",
              "\n",
              "       family_PRODUCE  family_SCHOOL AND OFFICE SUPPLIES  family_SEAFOOD  \n",
              "8500                0                                  0               0  \n",
              "12064               0                                  0               0  \n",
              "48972               0                                  0               0  \n",
              "49587               0                                  0               0  \n",
              "37965               0                                  0               0  \n",
              "...               ...                                ...             ...  \n",
              "24925               0                                  0               0  \n",
              "24106               0                                  0               0  \n",
              "42697               0                                  0               0  \n",
              "47750               0                                  0               1  \n",
              "12847               0                                  0               0  \n",
              "\n",
              "[11115 rows x 36 columns]"
            ],
            "text/html": [
              "\n",
              "  <div id=\"df-b8104294-42ab-4df7-99eb-68b2d3557aa1\" class=\"colab-df-container\">\n",
              "    <div>\n",
              "<style scoped>\n",
              "    .dataframe tbody tr th:only-of-type {\n",
              "        vertical-align: middle;\n",
              "    }\n",
              "\n",
              "    .dataframe tbody tr th {\n",
              "        vertical-align: top;\n",
              "    }\n",
              "\n",
              "    .dataframe thead th {\n",
              "        text-align: right;\n",
              "    }\n",
              "</style>\n",
              "<table border=\"1\" class=\"dataframe\">\n",
              "  <thead>\n",
              "    <tr style=\"text-align: right;\">\n",
              "      <th></th>\n",
              "      <th>year</th>\n",
              "      <th>month</th>\n",
              "      <th>day</th>\n",
              "      <th>family_AUTOMOTIVE</th>\n",
              "      <th>family_BABY CARE</th>\n",
              "      <th>family_BEAUTY</th>\n",
              "      <th>family_BEVERAGES</th>\n",
              "      <th>family_BOOKS</th>\n",
              "      <th>family_BREAD/BAKERY</th>\n",
              "      <th>family_CELEBRATION</th>\n",
              "      <th>...</th>\n",
              "      <th>family_MAGAZINES</th>\n",
              "      <th>family_MEATS</th>\n",
              "      <th>family_PERSONAL CARE</th>\n",
              "      <th>family_PET SUPPLIES</th>\n",
              "      <th>family_PLAYERS AND ELECTRONICS</th>\n",
              "      <th>family_POULTRY</th>\n",
              "      <th>family_PREPARED FOODS</th>\n",
              "      <th>family_PRODUCE</th>\n",
              "      <th>family_SCHOOL AND OFFICE SUPPLIES</th>\n",
              "      <th>family_SEAFOOD</th>\n",
              "    </tr>\n",
              "  </thead>\n",
              "  <tbody>\n",
              "    <tr>\n",
              "      <th>8500</th>\n",
              "      <td>2013</td>\n",
              "      <td>9</td>\n",
              "      <td>15</td>\n",
              "      <td>0</td>\n",
              "      <td>0</td>\n",
              "      <td>0</td>\n",
              "      <td>0</td>\n",
              "      <td>0</td>\n",
              "      <td>0</td>\n",
              "      <td>0</td>\n",
              "      <td>...</td>\n",
              "      <td>0</td>\n",
              "      <td>0</td>\n",
              "      <td>0</td>\n",
              "      <td>0</td>\n",
              "      <td>0</td>\n",
              "      <td>0</td>\n",
              "      <td>0</td>\n",
              "      <td>0</td>\n",
              "      <td>0</td>\n",
              "      <td>0</td>\n",
              "    </tr>\n",
              "    <tr>\n",
              "      <th>12064</th>\n",
              "      <td>2014</td>\n",
              "      <td>1</td>\n",
              "      <td>2</td>\n",
              "      <td>0</td>\n",
              "      <td>0</td>\n",
              "      <td>0</td>\n",
              "      <td>0</td>\n",
              "      <td>0</td>\n",
              "      <td>0</td>\n",
              "      <td>0</td>\n",
              "      <td>...</td>\n",
              "      <td>0</td>\n",
              "      <td>0</td>\n",
              "      <td>0</td>\n",
              "      <td>0</td>\n",
              "      <td>0</td>\n",
              "      <td>0</td>\n",
              "      <td>0</td>\n",
              "      <td>0</td>\n",
              "      <td>0</td>\n",
              "      <td>0</td>\n",
              "    </tr>\n",
              "    <tr>\n",
              "      <th>48972</th>\n",
              "      <td>2017</td>\n",
              "      <td>1</td>\n",
              "      <td>28</td>\n",
              "      <td>1</td>\n",
              "      <td>0</td>\n",
              "      <td>0</td>\n",
              "      <td>0</td>\n",
              "      <td>0</td>\n",
              "      <td>0</td>\n",
              "      <td>0</td>\n",
              "      <td>...</td>\n",
              "      <td>0</td>\n",
              "      <td>0</td>\n",
              "      <td>0</td>\n",
              "      <td>0</td>\n",
              "      <td>0</td>\n",
              "      <td>0</td>\n",
              "      <td>0</td>\n",
              "      <td>0</td>\n",
              "      <td>0</td>\n",
              "      <td>0</td>\n",
              "    </tr>\n",
              "    <tr>\n",
              "      <th>49587</th>\n",
              "      <td>2017</td>\n",
              "      <td>2</td>\n",
              "      <td>15</td>\n",
              "      <td>0</td>\n",
              "      <td>0</td>\n",
              "      <td>0</td>\n",
              "      <td>0</td>\n",
              "      <td>0</td>\n",
              "      <td>0</td>\n",
              "      <td>0</td>\n",
              "      <td>...</td>\n",
              "      <td>0</td>\n",
              "      <td>0</td>\n",
              "      <td>0</td>\n",
              "      <td>0</td>\n",
              "      <td>0</td>\n",
              "      <td>0</td>\n",
              "      <td>0</td>\n",
              "      <td>0</td>\n",
              "      <td>0</td>\n",
              "      <td>0</td>\n",
              "    </tr>\n",
              "    <tr>\n",
              "      <th>37965</th>\n",
              "      <td>2016</td>\n",
              "      <td>2</td>\n",
              "      <td>28</td>\n",
              "      <td>0</td>\n",
              "      <td>0</td>\n",
              "      <td>0</td>\n",
              "      <td>0</td>\n",
              "      <td>0</td>\n",
              "      <td>0</td>\n",
              "      <td>0</td>\n",
              "      <td>...</td>\n",
              "      <td>0</td>\n",
              "      <td>0</td>\n",
              "      <td>0</td>\n",
              "      <td>0</td>\n",
              "      <td>0</td>\n",
              "      <td>0</td>\n",
              "      <td>0</td>\n",
              "      <td>0</td>\n",
              "      <td>0</td>\n",
              "      <td>0</td>\n",
              "    </tr>\n",
              "    <tr>\n",
              "      <th>...</th>\n",
              "      <td>...</td>\n",
              "      <td>...</td>\n",
              "      <td>...</td>\n",
              "      <td>...</td>\n",
              "      <td>...</td>\n",
              "      <td>...</td>\n",
              "      <td>...</td>\n",
              "      <td>...</td>\n",
              "      <td>...</td>\n",
              "      <td>...</td>\n",
              "      <td>...</td>\n",
              "      <td>...</td>\n",
              "      <td>...</td>\n",
              "      <td>...</td>\n",
              "      <td>...</td>\n",
              "      <td>...</td>\n",
              "      <td>...</td>\n",
              "      <td>...</td>\n",
              "      <td>...</td>\n",
              "      <td>...</td>\n",
              "      <td>...</td>\n",
              "    </tr>\n",
              "    <tr>\n",
              "      <th>24925</th>\n",
              "      <td>2015</td>\n",
              "      <td>1</td>\n",
              "      <td>28</td>\n",
              "      <td>0</td>\n",
              "      <td>0</td>\n",
              "      <td>0</td>\n",
              "      <td>0</td>\n",
              "      <td>0</td>\n",
              "      <td>0</td>\n",
              "      <td>0</td>\n",
              "      <td>...</td>\n",
              "      <td>0</td>\n",
              "      <td>0</td>\n",
              "      <td>0</td>\n",
              "      <td>0</td>\n",
              "      <td>0</td>\n",
              "      <td>0</td>\n",
              "      <td>0</td>\n",
              "      <td>0</td>\n",
              "      <td>0</td>\n",
              "      <td>0</td>\n",
              "    </tr>\n",
              "    <tr>\n",
              "      <th>24106</th>\n",
              "      <td>2015</td>\n",
              "      <td>1</td>\n",
              "      <td>3</td>\n",
              "      <td>0</td>\n",
              "      <td>0</td>\n",
              "      <td>0</td>\n",
              "      <td>0</td>\n",
              "      <td>0</td>\n",
              "      <td>0</td>\n",
              "      <td>0</td>\n",
              "      <td>...</td>\n",
              "      <td>0</td>\n",
              "      <td>0</td>\n",
              "      <td>0</td>\n",
              "      <td>0</td>\n",
              "      <td>0</td>\n",
              "      <td>0</td>\n",
              "      <td>0</td>\n",
              "      <td>0</td>\n",
              "      <td>0</td>\n",
              "      <td>0</td>\n",
              "    </tr>\n",
              "    <tr>\n",
              "      <th>42697</th>\n",
              "      <td>2016</td>\n",
              "      <td>7</td>\n",
              "      <td>20</td>\n",
              "      <td>0</td>\n",
              "      <td>0</td>\n",
              "      <td>0</td>\n",
              "      <td>0</td>\n",
              "      <td>0</td>\n",
              "      <td>0</td>\n",
              "      <td>0</td>\n",
              "      <td>...</td>\n",
              "      <td>0</td>\n",
              "      <td>0</td>\n",
              "      <td>0</td>\n",
              "      <td>0</td>\n",
              "      <td>0</td>\n",
              "      <td>1</td>\n",
              "      <td>0</td>\n",
              "      <td>0</td>\n",
              "      <td>0</td>\n",
              "      <td>0</td>\n",
              "    </tr>\n",
              "    <tr>\n",
              "      <th>47750</th>\n",
              "      <td>2016</td>\n",
              "      <td>12</td>\n",
              "      <td>20</td>\n",
              "      <td>0</td>\n",
              "      <td>0</td>\n",
              "      <td>0</td>\n",
              "      <td>0</td>\n",
              "      <td>0</td>\n",
              "      <td>0</td>\n",
              "      <td>0</td>\n",
              "      <td>...</td>\n",
              "      <td>0</td>\n",
              "      <td>0</td>\n",
              "      <td>0</td>\n",
              "      <td>0</td>\n",
              "      <td>0</td>\n",
              "      <td>0</td>\n",
              "      <td>0</td>\n",
              "      <td>0</td>\n",
              "      <td>0</td>\n",
              "      <td>1</td>\n",
              "    </tr>\n",
              "    <tr>\n",
              "      <th>12847</th>\n",
              "      <td>2014</td>\n",
              "      <td>1</td>\n",
              "      <td>26</td>\n",
              "      <td>0</td>\n",
              "      <td>0</td>\n",
              "      <td>0</td>\n",
              "      <td>0</td>\n",
              "      <td>0</td>\n",
              "      <td>0</td>\n",
              "      <td>0</td>\n",
              "      <td>...</td>\n",
              "      <td>0</td>\n",
              "      <td>0</td>\n",
              "      <td>0</td>\n",
              "      <td>0</td>\n",
              "      <td>0</td>\n",
              "      <td>0</td>\n",
              "      <td>0</td>\n",
              "      <td>0</td>\n",
              "      <td>0</td>\n",
              "      <td>0</td>\n",
              "    </tr>\n",
              "  </tbody>\n",
              "</table>\n",
              "<p>11115 rows × 36 columns</p>\n",
              "</div>\n",
              "    <div class=\"colab-df-buttons\">\n",
              "\n",
              "  <div class=\"colab-df-container\">\n",
              "    <button class=\"colab-df-convert\" onclick=\"convertToInteractive('df-b8104294-42ab-4df7-99eb-68b2d3557aa1')\"\n",
              "            title=\"Convert this dataframe to an interactive table.\"\n",
              "            style=\"display:none;\">\n",
              "\n",
              "  <svg xmlns=\"http://www.w3.org/2000/svg\" height=\"24px\" viewBox=\"0 -960 960 960\">\n",
              "    <path d=\"M120-120v-720h720v720H120Zm60-500h600v-160H180v160Zm220 220h160v-160H400v160Zm0 220h160v-160H400v160ZM180-400h160v-160H180v160Zm440 0h160v-160H620v160ZM180-180h160v-160H180v160Zm440 0h160v-160H620v160Z\"/>\n",
              "  </svg>\n",
              "    </button>\n",
              "\n",
              "  <style>\n",
              "    .colab-df-container {\n",
              "      display:flex;\n",
              "      gap: 12px;\n",
              "    }\n",
              "\n",
              "    .colab-df-convert {\n",
              "      background-color: #E8F0FE;\n",
              "      border: none;\n",
              "      border-radius: 50%;\n",
              "      cursor: pointer;\n",
              "      display: none;\n",
              "      fill: #1967D2;\n",
              "      height: 32px;\n",
              "      padding: 0 0 0 0;\n",
              "      width: 32px;\n",
              "    }\n",
              "\n",
              "    .colab-df-convert:hover {\n",
              "      background-color: #E2EBFA;\n",
              "      box-shadow: 0px 1px 2px rgba(60, 64, 67, 0.3), 0px 1px 3px 1px rgba(60, 64, 67, 0.15);\n",
              "      fill: #174EA6;\n",
              "    }\n",
              "\n",
              "    .colab-df-buttons div {\n",
              "      margin-bottom: 4px;\n",
              "    }\n",
              "\n",
              "    [theme=dark] .colab-df-convert {\n",
              "      background-color: #3B4455;\n",
              "      fill: #D2E3FC;\n",
              "    }\n",
              "\n",
              "    [theme=dark] .colab-df-convert:hover {\n",
              "      background-color: #434B5C;\n",
              "      box-shadow: 0px 1px 3px 1px rgba(0, 0, 0, 0.15);\n",
              "      filter: drop-shadow(0px 1px 2px rgba(0, 0, 0, 0.3));\n",
              "      fill: #FFFFFF;\n",
              "    }\n",
              "  </style>\n",
              "\n",
              "    <script>\n",
              "      const buttonEl =\n",
              "        document.querySelector('#df-b8104294-42ab-4df7-99eb-68b2d3557aa1 button.colab-df-convert');\n",
              "      buttonEl.style.display =\n",
              "        google.colab.kernel.accessAllowed ? 'block' : 'none';\n",
              "\n",
              "      async function convertToInteractive(key) {\n",
              "        const element = document.querySelector('#df-b8104294-42ab-4df7-99eb-68b2d3557aa1');\n",
              "        const dataTable =\n",
              "          await google.colab.kernel.invokeFunction('convertToInteractive',\n",
              "                                                    [key], {});\n",
              "        if (!dataTable) return;\n",
              "\n",
              "        const docLinkHtml = 'Like what you see? Visit the ' +\n",
              "          '<a target=\"_blank\" href=https://colab.research.google.com/notebooks/data_table.ipynb>data table notebook</a>'\n",
              "          + ' to learn more about interactive tables.';\n",
              "        element.innerHTML = '';\n",
              "        dataTable['output_type'] = 'display_data';\n",
              "        await google.colab.output.renderOutput(dataTable, element);\n",
              "        const docLink = document.createElement('div');\n",
              "        docLink.innerHTML = docLinkHtml;\n",
              "        element.appendChild(docLink);\n",
              "      }\n",
              "    </script>\n",
              "  </div>\n",
              "\n",
              "\n",
              "<div id=\"df-96a38362-2ec5-4905-b70c-6703de1c5cb9\">\n",
              "  <button class=\"colab-df-quickchart\" onclick=\"quickchart('df-96a38362-2ec5-4905-b70c-6703de1c5cb9')\"\n",
              "            title=\"Suggest charts\"\n",
              "            style=\"display:none;\">\n",
              "\n",
              "<svg xmlns=\"http://www.w3.org/2000/svg\" height=\"24px\"viewBox=\"0 0 24 24\"\n",
              "     width=\"24px\">\n",
              "    <g>\n",
              "        <path d=\"M19 3H5c-1.1 0-2 .9-2 2v14c0 1.1.9 2 2 2h14c1.1 0 2-.9 2-2V5c0-1.1-.9-2-2-2zM9 17H7v-7h2v7zm4 0h-2V7h2v10zm4 0h-2v-4h2v4z\"/>\n",
              "    </g>\n",
              "</svg>\n",
              "  </button>\n",
              "\n",
              "<style>\n",
              "  .colab-df-quickchart {\n",
              "      --bg-color: #E8F0FE;\n",
              "      --fill-color: #1967D2;\n",
              "      --hover-bg-color: #E2EBFA;\n",
              "      --hover-fill-color: #174EA6;\n",
              "      --disabled-fill-color: #AAA;\n",
              "      --disabled-bg-color: #DDD;\n",
              "  }\n",
              "\n",
              "  [theme=dark] .colab-df-quickchart {\n",
              "      --bg-color: #3B4455;\n",
              "      --fill-color: #D2E3FC;\n",
              "      --hover-bg-color: #434B5C;\n",
              "      --hover-fill-color: #FFFFFF;\n",
              "      --disabled-bg-color: #3B4455;\n",
              "      --disabled-fill-color: #666;\n",
              "  }\n",
              "\n",
              "  .colab-df-quickchart {\n",
              "    background-color: var(--bg-color);\n",
              "    border: none;\n",
              "    border-radius: 50%;\n",
              "    cursor: pointer;\n",
              "    display: none;\n",
              "    fill: var(--fill-color);\n",
              "    height: 32px;\n",
              "    padding: 0;\n",
              "    width: 32px;\n",
              "  }\n",
              "\n",
              "  .colab-df-quickchart:hover {\n",
              "    background-color: var(--hover-bg-color);\n",
              "    box-shadow: 0 1px 2px rgba(60, 64, 67, 0.3), 0 1px 3px 1px rgba(60, 64, 67, 0.15);\n",
              "    fill: var(--button-hover-fill-color);\n",
              "  }\n",
              "\n",
              "  .colab-df-quickchart-complete:disabled,\n",
              "  .colab-df-quickchart-complete:disabled:hover {\n",
              "    background-color: var(--disabled-bg-color);\n",
              "    fill: var(--disabled-fill-color);\n",
              "    box-shadow: none;\n",
              "  }\n",
              "\n",
              "  .colab-df-spinner {\n",
              "    border: 2px solid var(--fill-color);\n",
              "    border-color: transparent;\n",
              "    border-bottom-color: var(--fill-color);\n",
              "    animation:\n",
              "      spin 1s steps(1) infinite;\n",
              "  }\n",
              "\n",
              "  @keyframes spin {\n",
              "    0% {\n",
              "      border-color: transparent;\n",
              "      border-bottom-color: var(--fill-color);\n",
              "      border-left-color: var(--fill-color);\n",
              "    }\n",
              "    20% {\n",
              "      border-color: transparent;\n",
              "      border-left-color: var(--fill-color);\n",
              "      border-top-color: var(--fill-color);\n",
              "    }\n",
              "    30% {\n",
              "      border-color: transparent;\n",
              "      border-left-color: var(--fill-color);\n",
              "      border-top-color: var(--fill-color);\n",
              "      border-right-color: var(--fill-color);\n",
              "    }\n",
              "    40% {\n",
              "      border-color: transparent;\n",
              "      border-right-color: var(--fill-color);\n",
              "      border-top-color: var(--fill-color);\n",
              "    }\n",
              "    60% {\n",
              "      border-color: transparent;\n",
              "      border-right-color: var(--fill-color);\n",
              "    }\n",
              "    80% {\n",
              "      border-color: transparent;\n",
              "      border-right-color: var(--fill-color);\n",
              "      border-bottom-color: var(--fill-color);\n",
              "    }\n",
              "    90% {\n",
              "      border-color: transparent;\n",
              "      border-bottom-color: var(--fill-color);\n",
              "    }\n",
              "  }\n",
              "</style>\n",
              "\n",
              "  <script>\n",
              "    async function quickchart(key) {\n",
              "      const quickchartButtonEl =\n",
              "        document.querySelector('#' + key + ' button');\n",
              "      quickchartButtonEl.disabled = true;  // To prevent multiple clicks.\n",
              "      quickchartButtonEl.classList.add('colab-df-spinner');\n",
              "      try {\n",
              "        const charts = await google.colab.kernel.invokeFunction(\n",
              "            'suggestCharts', [key], {});\n",
              "      } catch (error) {\n",
              "        console.error('Error during call to suggestCharts:', error);\n",
              "      }\n",
              "      quickchartButtonEl.classList.remove('colab-df-spinner');\n",
              "      quickchartButtonEl.classList.add('colab-df-quickchart-complete');\n",
              "    }\n",
              "    (() => {\n",
              "      let quickchartButtonEl =\n",
              "        document.querySelector('#df-96a38362-2ec5-4905-b70c-6703de1c5cb9 button');\n",
              "      quickchartButtonEl.style.display =\n",
              "        google.colab.kernel.accessAllowed ? 'block' : 'none';\n",
              "    })();\n",
              "  </script>\n",
              "</div>\n",
              "    </div>\n",
              "  </div>\n"
            ],
            "application/vnd.google.colaboratory.intrinsic+json": {
              "type": "dataframe",
              "variable_name": "X_test"
            }
          },
          "metadata": {},
          "execution_count": 26
        }
      ]
    },
    {
      "cell_type": "code",
      "source": [
        "Y_test"
      ],
      "metadata": {
        "colab": {
          "base_uri": "https://localhost:8080/"
        },
        "id": "6rB_bmJbXajU",
        "outputId": "7235bc0d-468c-4ddd-9ef3-847f5c2fda5a"
      },
      "execution_count": null,
      "outputs": [
        {
          "output_type": "execute_result",
          "data": {
            "text/plain": [
              "8500       0.000\n",
              "12064     12.000\n",
              "48972      3.000\n",
              "49587      2.000\n",
              "37965     15.000\n",
              "          ...   \n",
              "24925    278.000\n",
              "24106     12.000\n",
              "42697    580.357\n",
              "47750     22.839\n",
              "12847    304.000\n",
              "Name: sales, Length: 11115, dtype: float64"
            ]
          },
          "metadata": {},
          "execution_count": 27
        }
      ]
    },
    {
      "cell_type": "code",
      "source": [
        "\n",
        "#from sklearn.model_selection import train_test_split\n",
        "\n",
        "#X_train,X_test,y_train,y_test=train_test_split(X,y,test_size=0.2, shuffle=False)\n",
        "\n",
        "\n"
      ],
      "metadata": {
        "id": "o3skDSd9D7RS"
      },
      "execution_count": null,
      "outputs": []
    },
    {
      "cell_type": "code",
      "source": [
        "# Convertir la colonne 'date' en format datetime\n",
        "#X_train['date'] = pd.to_datetime(X_train['date'], errors='coerce')\n",
        "#X_test['date'] = pd.to_datetime(X_test['date'], errors='coerce')\n"
      ],
      "metadata": {
        "id": "Kk6nqu-cFM9I"
      },
      "execution_count": null,
      "outputs": []
    },
    {
      "cell_type": "markdown",
      "source": [
        "# **Linear Regression**"
      ],
      "metadata": {
        "id": "vSiJ_G3rH8Ar"
      }
    },
    {
      "cell_type": "code",
      "source": [
        "from sklearn.preprocessing import LabelEncoder\n",
        "from sklearn.linear_model import LinearRegression"
      ],
      "metadata": {
        "id": "riqNqR2_EC2C"
      },
      "execution_count": null,
      "outputs": []
    },
    {
      "cell_type": "code",
      "source": [
        "lr = LinearRegression()\n",
        "lr.fit(X_train,Y_train)\n",
        "Y_pred = lr.predict(X_test)\n",
        "\n",
        "squared_log_errors = (np.log1p(Y_pred) - np.log1p(Y_test)) ** 2\n",
        "mean_squared_log_error = np.mean(squared_log_errors)\n",
        "rmsle = np.sqrt(mean_squared_log_error)\n",
        "print(\"RMSLE:\", rmsle)"
      ],
      "metadata": {
        "colab": {
          "base_uri": "https://localhost:8080/"
        },
        "id": "7tKGo9EMEe5B",
        "outputId": "8081002c-519e-4887-dbb5-b8725d12ae52"
      },
      "execution_count": null,
      "outputs": [
        {
          "output_type": "stream",
          "name": "stdout",
          "text": [
            "RMSLE: 2.1429922606566336\n"
          ]
        },
        {
          "output_type": "stream",
          "name": "stderr",
          "text": [
            "<ipython-input-59-4d4ecb74359a>:5: RuntimeWarning: invalid value encountered in log1p\n",
            "  squared_log_errors = (np.log1p(Y_pred) - np.log1p(Y_test)) ** 2\n"
          ]
        }
      ]
    },
    {
      "cell_type": "code",
      "source": [
        "Y_pred"
      ],
      "metadata": {
        "colab": {
          "base_uri": "https://localhost:8080/"
        },
        "id": "icGmOMLXHYGb",
        "outputId": "f8ad3f83-287f-4339-f21b-9a9b8bfa4335"
      },
      "execution_count": null,
      "outputs": [
        {
          "output_type": "execute_result",
          "data": {
            "text/plain": [
              "array([-137.43945312, -133.59765625,  138.921875  , ...,  728.40039062,\n",
              "        249.06835938,  119.171875  ])"
            ]
          },
          "metadata": {},
          "execution_count": 60
        }
      ]
    },
    {
      "cell_type": "code",
      "source": [
        "Y_test"
      ],
      "metadata": {
        "colab": {
          "base_uri": "https://localhost:8080/"
        },
        "id": "p0RYwaysHbC7",
        "outputId": "8a1e99e5-1b38-4a13-e0ce-683df5b37cc3"
      },
      "execution_count": null,
      "outputs": [
        {
          "output_type": "execute_result",
          "data": {
            "text/plain": [
              "8500       0.000\n",
              "12064     12.000\n",
              "48972      3.000\n",
              "49587      2.000\n",
              "37965     15.000\n",
              "          ...   \n",
              "24925    278.000\n",
              "24106     12.000\n",
              "42697    580.357\n",
              "47750     22.839\n",
              "12847    304.000\n",
              "Name: sales, Length: 11115, dtype: float64"
            ]
          },
          "metadata": {},
          "execution_count": 61
        }
      ]
    },
    {
      "cell_type": "markdown",
      "source": [
        "# **XGB**"
      ],
      "metadata": {
        "id": "vzImGNUzIBux"
      }
    },
    {
      "cell_type": "code",
      "source": [
        "import xgboost as xgb"
      ],
      "metadata": {
        "id": "pI2rCWeAIIHt"
      },
      "execution_count": null,
      "outputs": []
    },
    {
      "cell_type": "code",
      "source": [
        "xg_reg = xgb.XGBRegressor(n_estimators = 300, max_depth = 9)\n",
        "xg_reg.fit(X_train,Y_train)\n",
        "Y_pred = xg_reg.predict(X_test)\n",
        "\n",
        "squared_log_errors = (np.log1p(Y_pred) - np.log1p(Y_test)) ** 2\n",
        "mean_squared_log_error = np.mean(squared_log_errors)\n",
        "rmsle = np.sqrt(mean_squared_log_error)\n",
        "print(\"RMSLE:\", rmsle)"
      ],
      "metadata": {
        "colab": {
          "base_uri": "https://localhost:8080/"
        },
        "id": "ZjgK09PrINIy",
        "outputId": "b0bbadac-b2d8-4808-e692-4470e840815b"
      },
      "execution_count": null,
      "outputs": [
        {
          "output_type": "stream",
          "name": "stdout",
          "text": [
            "RMSLE: 1.1205423254551936\n"
          ]
        },
        {
          "output_type": "stream",
          "name": "stderr",
          "text": [
            "<ipython-input-29-84a177facd60>:5: RuntimeWarning: invalid value encountered in log1p\n",
            "  squared_log_errors = (np.log1p(Y_pred) - np.log1p(Y_test)) ** 2\n"
          ]
        }
      ]
    },
    {
      "cell_type": "code",
      "source": [
        "Y_pred"
      ],
      "metadata": {
        "colab": {
          "base_uri": "https://localhost:8080/"
        },
        "id": "-I2duKDFPrAG",
        "outputId": "cdc31cb0-801b-4172-ae64-a91150013246"
      },
      "execution_count": null,
      "outputs": [
        {
          "output_type": "execute_result",
          "data": {
            "text/plain": [
              "array([ -4.52161 ,  21.383842,   9.517632, ..., 585.17316 ,  25.679665,\n",
              "       291.58267 ], dtype=float32)"
            ]
          },
          "metadata": {},
          "execution_count": 30
        }
      ]
    },
    {
      "cell_type": "code",
      "source": [
        "Y_test"
      ],
      "metadata": {
        "colab": {
          "base_uri": "https://localhost:8080/"
        },
        "id": "-bxkxFxbPvU8",
        "outputId": "3751fde0-1af5-472b-f273-69c48ddddc28"
      },
      "execution_count": null,
      "outputs": [
        {
          "output_type": "execute_result",
          "data": {
            "text/plain": [
              "8500       0.000\n",
              "12064     12.000\n",
              "48972      3.000\n",
              "49587      2.000\n",
              "37965     15.000\n",
              "          ...   \n",
              "24925    278.000\n",
              "24106     12.000\n",
              "42697    580.357\n",
              "47750     22.839\n",
              "12847    304.000\n",
              "Name: sales, Length: 11115, dtype: float64"
            ]
          },
          "metadata": {},
          "execution_count": 31
        }
      ]
    },
    {
      "cell_type": "code",
      "source": [
        "from sklearn.metrics import mean_absolute_error\n",
        "print(mean_absolute_error(Y_test, Y_pred))"
      ],
      "metadata": {
        "colab": {
          "base_uri": "https://localhost:8080/"
        },
        "id": "q7ERFhO9OP7f",
        "outputId": "fc73c124-629b-44b6-db55-92b893e9012b"
      },
      "execution_count": null,
      "outputs": [
        {
          "output_type": "stream",
          "name": "stdout",
          "text": [
            "80.5631051662179\n"
          ]
        }
      ]
    },
    {
      "cell_type": "code",
      "source": [
        "mae_log = np.mean(np.abs(np.log1p(Y_pred) - np.log1p(Y_test)))\n",
        "print(mae_log)"
      ],
      "metadata": {
        "colab": {
          "base_uri": "https://localhost:8080/"
        },
        "id": "l1PsLUOiRR6d",
        "outputId": "30d5dcdf-aca8-417c-f95b-aa5588174f20"
      },
      "execution_count": null,
      "outputs": [
        {
          "output_type": "stream",
          "name": "stdout",
          "text": [
            "0.6701857471557439\n"
          ]
        },
        {
          "output_type": "stream",
          "name": "stderr",
          "text": [
            "<ipython-input-44-ba4b49411d37>:1: RuntimeWarning: invalid value encountered in log1p\n",
            "  mae_log = np.mean(np.abs(np.log1p(Y_pred) - np.log1p(Y_test)))\n"
          ]
        }
      ]
    },
    {
      "cell_type": "code",
      "source": [
        "def return_rmse(test,predicted):\n",
        "  rmse = math.sqrt(mean_squared_error(test, predicted))\n",
        "  print(\"The root mean squared error is {}\".format(rmse))"
      ],
      "metadata": {
        "id": "J_jX3877UNot"
      },
      "execution_count": null,
      "outputs": []
    },
    {
      "cell_type": "code",
      "source": [
        "import math\n",
        "from sklearn.metrics import mean_squared_error"
      ],
      "metadata": {
        "id": "YBsVFbOwVAAM"
      },
      "execution_count": null,
      "outputs": []
    },
    {
      "cell_type": "code",
      "source": [
        "return_rmse(Y_test,Y_pred)"
      ],
      "metadata": {
        "colab": {
          "base_uri": "https://localhost:8080/"
        },
        "id": "vRBYlxZEUQ-d",
        "outputId": "5a5b0593-caea-4ad1-d395-8ce54f66fd0f"
      },
      "execution_count": null,
      "outputs": [
        {
          "output_type": "stream",
          "name": "stdout",
          "text": [
            "The root mean squared error is 253.4605253051679\n"
          ]
        }
      ]
    },
    {
      "cell_type": "markdown",
      "source": [
        "# **GradientBoostingRegressor**"
      ],
      "metadata": {
        "id": "ulH7mwuWQjRD"
      }
    },
    {
      "cell_type": "code",
      "source": [
        "model = GradientBoostingRegressor(n_estimators=300, random_state=42)\n",
        "model.fit(X_train, Y_train)\n",
        "\n",
        "Y_pred = model.predict(X_test)\n",
        "\n",
        "squared_log_errors = (np.log1p(Y_pred) - np.log1p(Y_test)) ** 2\n",
        "mean_squared_log_error = np.mean(squared_log_errors)\n",
        "rmsle = np.sqrt(mean_squared_log_error)\n",
        "print(\"RMSLE:\", rmsle)"
      ],
      "metadata": {
        "colab": {
          "base_uri": "https://localhost:8080/"
        },
        "id": "CmxkIv8sQMQs",
        "outputId": "2060c50e-f81c-4048-8273-aa20919f1c14"
      },
      "execution_count": null,
      "outputs": [
        {
          "output_type": "stream",
          "name": "stdout",
          "text": [
            "RMSLE: 1.4930092937775548\n"
          ]
        },
        {
          "output_type": "stream",
          "name": "stderr",
          "text": [
            "<ipython-input-66-99e0cc6d83d5>:6: RuntimeWarning: invalid value encountered in log1p\n",
            "  squared_log_errors = (np.log1p(Y_pred) - np.log1p(Y_test)) ** 2\n"
          ]
        }
      ]
    },
    {
      "cell_type": "code",
      "source": [
        "Y_pred"
      ],
      "metadata": {
        "colab": {
          "base_uri": "https://localhost:8080/"
        },
        "id": "zYmUXHEqWVgF",
        "outputId": "0e4bd08d-f036-4840-89a2-97b978869e28"
      },
      "execution_count": null,
      "outputs": [
        {
          "output_type": "execute_result",
          "data": {
            "text/plain": [
              "array([ 13.70273969,  13.88610898,  43.31976854, ..., 684.45276388,\n",
              "        64.08785931, 273.47365658])"
            ]
          },
          "metadata": {},
          "execution_count": 67
        }
      ]
    },
    {
      "cell_type": "code",
      "source": [
        "Y_test"
      ],
      "metadata": {
        "colab": {
          "base_uri": "https://localhost:8080/"
        },
        "id": "Dh_8GbvHWYKS",
        "outputId": "8938638a-3ec4-47bf-8555-2553c58fcc58"
      },
      "execution_count": null,
      "outputs": [
        {
          "output_type": "execute_result",
          "data": {
            "text/plain": [
              "8500       0.000\n",
              "12064     12.000\n",
              "48972      3.000\n",
              "49587      2.000\n",
              "37965     15.000\n",
              "          ...   \n",
              "24925    278.000\n",
              "24106     12.000\n",
              "42697    580.357\n",
              "47750     22.839\n",
              "12847    304.000\n",
              "Name: sales, Length: 11115, dtype: float64"
            ]
          },
          "metadata": {},
          "execution_count": 68
        }
      ]
    }
  ]
}